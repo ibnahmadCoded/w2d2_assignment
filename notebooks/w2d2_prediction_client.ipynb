{
  "nbformat": 4,
  "nbformat_minor": 0,
  "metadata": {
    "colab": {
      "name": "Copy of w2d2_prediction_client.ipynb",
      "provenance": [],
      "collapsed_sections": []
    },
    "kernelspec": {
      "name": "python3",
      "display_name": "Python 3"
    },
    "language_info": {
      "name": "python"
    }
  },
  "cells": [
    {
      "cell_type": "markdown",
      "metadata": {
        "id": "2OxAPw3IxG5g"
      },
      "source": [
        "Package installment"
      ]
    },
    {
      "cell_type": "code",
      "metadata": {
        "colab": {
          "base_uri": "https://localhost:8080/"
        },
        "id": "USjLKF8fxJim",
        "outputId": "4e8175ac-37bf-40db-9f9a-45465aceeb9c"
      },
      "source": [
        "!pip install requests"
      ],
      "execution_count": null,
      "outputs": [
        {
          "output_type": "stream",
          "text": [
            "Requirement already satisfied: requests in /usr/local/lib/python3.7/dist-packages (2.23.0)\n",
            "Requirement already satisfied: certifi>=2017.4.17 in /usr/local/lib/python3.7/dist-packages (from requests) (2020.12.5)\n",
            "Requirement already satisfied: urllib3!=1.25.0,!=1.25.1,<1.26,>=1.21.1 in /usr/local/lib/python3.7/dist-packages (from requests) (1.24.3)\n",
            "Requirement already satisfied: chardet<4,>=3.0.2 in /usr/local/lib/python3.7/dist-packages (from requests) (3.0.4)\n",
            "Requirement already satisfied: idna<3,>=2.5 in /usr/local/lib/python3.7/dist-packages (from requests) (2.10)\n"
          ],
          "name": "stdout"
        }
      ]
    },
    {
      "cell_type": "markdown",
      "metadata": {
        "id": "6VO_20ZlxO0L"
      },
      "source": [
        "Package Imports"
      ]
    },
    {
      "cell_type": "code",
      "metadata": {
        "id": "w15Rl4LIxSMy"
      },
      "source": [
        "import requests\n",
        "import json"
      ],
      "execution_count": null,
      "outputs": []
    },
    {
      "cell_type": "code",
      "metadata": {
        "id": "s6B0uCBrxSpK"
      },
      "source": [
        "url = 'http://9321816cb159.ngrok.io'"
      ],
      "execution_count": null,
      "outputs": []
    },
    {
      "cell_type": "code",
      "metadata": {
        "id": "Put3HDzrxV3L"
      },
      "source": [
        "features = [10.8, 0.47, 0.43, 2.1, 0.171, 27.0, 66.0, 0.9982, 3.17, 0.76, 10.8]"
      ],
      "execution_count": null,
      "outputs": []
    },
    {
      "cell_type": "code",
      "metadata": {
        "id": "FOl0w2u_xfhU"
      },
      "source": [
        "# Making the request to the server with the above features list\n",
        "req = requests.post(url,\n",
        "                 headers = {'Content-Type': 'application/json'},\n",
        "                 data = json.dumps({\n",
        "                     'features': {\n",
        "                         'fixed acidity':10.8, \n",
        "                         'volatile acidity':0.47,\n",
        "                         'citric acid':0.43, \n",
        "                         'residual sugar':2.1, \n",
        "                         'chlorides':0.171, \n",
        "                         'free sulfur dioxide':27.0,\n",
        "                         'total sulfur dioxide':66.0, \n",
        "                         'density':0.9982, \n",
        "                         'pH':3.17, \n",
        "                         'sulphates':0.76, \n",
        "                         'alcohol':10.8,\n",
        "                     }\n",
        "                     })\n",
        "                )"
      ],
      "execution_count": null,
      "outputs": []
    },
    {
      "cell_type": "code",
      "metadata": {
        "id": "hDiwS3afxgjV",
        "colab": {
          "base_uri": "https://localhost:8080/"
        },
        "outputId": "fc12b03f-cd47-47fc-dbca-bc451771f9b9"
      },
      "source": [
        "# Getting the prediction result\n",
        "# req.json()[\"prediction\"]\n",
        "\n",
        "if 'json' in req.headers.get('Content-Type'):\n",
        "    js = req.json()[\"prediction\"]\n",
        "else:\n",
        "    print('Response content is not in JSON format.')\n",
        "    js = 'spam'\n",
        "\n",
        "print(js)"
      ],
      "execution_count": null,
      "outputs": [
        {
          "output_type": "stream",
          "text": [
            "5.54990122795105\n"
          ],
          "name": "stdout"
        }
      ]
    },
    {
      "cell_type": "code",
      "metadata": {
        "id": "PFQQLvspmGU8"
      },
      "source": [
        ""
      ],
      "execution_count": null,
      "outputs": []
    }
  ]
}